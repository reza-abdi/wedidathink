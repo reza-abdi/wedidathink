{
 "cells": [
  {
   "cell_type": "markdown",
   "metadata": {
    "id": "gA90lz12CZNE"
   },
   "source": [
    "# natHacks Brainflow Tutorial"
   ]
  },
  {
   "cell_type": "markdown",
   "metadata": {
    "id": "d7MNuu80CZNF"
   },
   "source": [
    "Written by Harrison Fah for use in the natHacks workshop on November 8th, 2024. If you run this in Google Collab instead of Jupyter Notebook it should still work for the synthetic board but you will not be able to use your EEG device."
   ]
  },
  {
   "cell_type": "markdown",
   "metadata": {
    "id": "ZdMYzRtUCZNG"
   },
   "source": [
    "## Install libraries\n",
    "\n",
    "Running this code will automatically install the libraries needed for this notebook."
   ]
  },
  {
   "cell_type": "code",
   "execution_count": 1,
   "metadata": {
    "id": "vNUqodrhCZNG"
   },
   "outputs": [
    {
     "name": "stdout",
     "output_type": "stream",
     "text": [
      "Defaulting to user installation because normal site-packages is not writeable\n",
      "Requirement already satisfied: brainflow in c:\\users\\nairraider\\appdata\\local\\packages\\pythonsoftwarefoundation.python.3.12_qbz5n2kfra8p0\\localcache\\local-packages\\python312\\site-packages (5.14.0)\n",
      "Requirement already satisfied: numpy in c:\\users\\nairraider\\appdata\\local\\packages\\pythonsoftwarefoundation.python.3.12_qbz5n2kfra8p0\\localcache\\local-packages\\python312\\site-packages (from brainflow) (2.1.3)\n",
      "Requirement already satisfied: setuptools in c:\\users\\nairraider\\appdata\\local\\packages\\pythonsoftwarefoundation.python.3.12_qbz5n2kfra8p0\\localcache\\local-packages\\python312\\site-packages (from brainflow) (75.5.0)\n",
      "Defaulting to user installation because normal site-packages is not writeable\n",
      "Requirement already satisfied: numpy in c:\\users\\nairraider\\appdata\\local\\packages\\pythonsoftwarefoundation.python.3.12_qbz5n2kfra8p0\\localcache\\local-packages\\python312\\site-packages (2.1.3)\n",
      "Defaulting to user installation because normal site-packages is not writeable\n",
      "Requirement already satisfied: matplotlib in c:\\users\\nairraider\\appdata\\local\\packages\\pythonsoftwarefoundation.python.3.12_qbz5n2kfra8p0\\localcache\\local-packages\\python312\\site-packages (3.9.2)\n",
      "Requirement already satisfied: contourpy>=1.0.1 in c:\\users\\nairraider\\appdata\\local\\packages\\pythonsoftwarefoundation.python.3.12_qbz5n2kfra8p0\\localcache\\local-packages\\python312\\site-packages (from matplotlib) (1.3.1)\n",
      "Requirement already satisfied: cycler>=0.10 in c:\\users\\nairraider\\appdata\\local\\packages\\pythonsoftwarefoundation.python.3.12_qbz5n2kfra8p0\\localcache\\local-packages\\python312\\site-packages (from matplotlib) (0.12.1)\n",
      "Requirement already satisfied: fonttools>=4.22.0 in c:\\users\\nairraider\\appdata\\local\\packages\\pythonsoftwarefoundation.python.3.12_qbz5n2kfra8p0\\localcache\\local-packages\\python312\\site-packages (from matplotlib) (4.55.0)\n",
      "Requirement already satisfied: kiwisolver>=1.3.1 in c:\\users\\nairraider\\appdata\\local\\packages\\pythonsoftwarefoundation.python.3.12_qbz5n2kfra8p0\\localcache\\local-packages\\python312\\site-packages (from matplotlib) (1.4.7)\n",
      "Requirement already satisfied: numpy>=1.23 in c:\\users\\nairraider\\appdata\\local\\packages\\pythonsoftwarefoundation.python.3.12_qbz5n2kfra8p0\\localcache\\local-packages\\python312\\site-packages (from matplotlib) (2.1.3)\n",
      "Requirement already satisfied: packaging>=20.0 in c:\\users\\nairraider\\appdata\\local\\packages\\pythonsoftwarefoundation.python.3.12_qbz5n2kfra8p0\\localcache\\local-packages\\python312\\site-packages (from matplotlib) (24.2)\n",
      "Requirement already satisfied: pillow>=8 in c:\\users\\nairraider\\appdata\\local\\packages\\pythonsoftwarefoundation.python.3.12_qbz5n2kfra8p0\\localcache\\local-packages\\python312\\site-packages (from matplotlib) (11.0.0)\n",
      "Requirement already satisfied: pyparsing>=2.3.1 in c:\\users\\nairraider\\appdata\\local\\packages\\pythonsoftwarefoundation.python.3.12_qbz5n2kfra8p0\\localcache\\local-packages\\python312\\site-packages (from matplotlib) (3.2.0)\n",
      "Requirement already satisfied: python-dateutil>=2.7 in c:\\users\\nairraider\\appdata\\local\\packages\\pythonsoftwarefoundation.python.3.12_qbz5n2kfra8p0\\localcache\\local-packages\\python312\\site-packages (from matplotlib) (2.9.0.post0)\n",
      "Requirement already satisfied: six>=1.5 in c:\\users\\nairraider\\appdata\\local\\packages\\pythonsoftwarefoundation.python.3.12_qbz5n2kfra8p0\\localcache\\local-packages\\python312\\site-packages (from python-dateutil>=2.7->matplotlib) (1.16.0)\n"
     ]
    }
   ],
   "source": [
    "!python -m pip install brainflow\n",
    "!python -m pip install numpy\n",
    "!python -m pip install matplotlib"
   ]
  },
  {
   "cell_type": "markdown",
   "metadata": {
    "id": "dpYJ-gGDCZNH"
   },
   "source": [
    "## Import libraries"
   ]
  },
  {
   "cell_type": "code",
   "execution_count": 2,
   "metadata": {
    "id": "AtIC-maECZNH"
   },
   "outputs": [],
   "source": [
    "from brainflow.board_shim import BoardShim, BrainFlowInputParams, BoardIds\n",
    "from brainflow.data_filter import DataFilter, FilterTypes\n",
    "import numpy as np\n",
    "import matplotlib.pyplot as plt\n",
    "import time"
   ]
  },
  {
   "cell_type": "markdown",
   "metadata": {
    "id": "8Rpy4PNYCZNH"
   },
   "source": [
    "## Define your device's serial port and board ID\n",
    "\n",
    "The serial port can be found by following the instructions given in the slides.\n",
    "\n",
    "The board ID can be found at https://brainflow.readthedocs.io/en/stable/UserAPI.html#brainflow-board-shim"
   ]
  },
  {
   "cell_type": "code",
   "execution_count": 3,
   "metadata": {
    "id": "bwx_zX9HCZNH"
   },
   "outputs": [],
   "source": [
    "params = BrainFlowInputParams()\n",
    "params.serial_port = 'COM3' #Change this depending on your device and OS\n",
    "board_id = 38 #Change this depending on your device"
   ]
  },
  {
   "cell_type": "markdown",
   "metadata": {
    "id": "E9j284xuCZNH"
   },
   "source": [
    "## Create board object\n",
    "\n",
    "We now create the BoardShim object that allows us to interact with our device. We first try to create the object using the above parameters. We call prepare_session using the board to verify that the device is properly connected. If there is an issue with the device then it will instead create a synthetic board object. Finally we release the session from the board so that we don't run into any issues trying to prepare a session later (you can only prepare one session at a time)."
   ]
  },
  {
   "cell_type": "code",
   "execution_count": 11,
   "metadata": {
    "id": "bpn1BmKPCZNH"
   },
   "outputs": [
    {
     "name": "stdout",
     "output_type": "stream",
     "text": [
      "Successfully prepared physical board.\n"
     ]
    }
   ],
   "source": [
    "#Prepares the board for reading data\n",
    "try:\n",
    "    board_id = 38\n",
    "    board = BoardShim(board_id, params)\n",
    "    board.prepare_session()\n",
    "    print(\"Successfully prepared physical board.\")\n",
    "except Exception as e:\n",
    "    print(e)\n",
    "    #If the device cannot be found or is being used elsewhere, creates a synthetic board instead\n",
    "    print(\"Device could not be found or is being used by another program, creating synthetic board.\")\n",
    "    board_id = BoardIds.SYNTHETIC_BOARD\n",
    "    board = BoardShim(board_id, params)\n",
    "    board.prepare_session()\n",
    "#Releases the board session\n",
    "board.release_session()"
   ]
  },
  {
   "cell_type": "markdown",
   "metadata": {
    "id": "W8oh2GmOCZNI"
   },
   "source": [
    "## Read data from board\n",
    "\n",
    "Here we start a stream from the board so that we can record data from it. We first prepare the board and start the stream, then we wait 5 seconds and get the board data (clearing the buffer)."
   ]
  },
  {
   "cell_type": "code",
   "execution_count": 19,
   "metadata": {
    "id": "lsq_UQbnCZNI",
    "scrolled": true
   },
   "outputs": [
    {
     "name": "stdout",
     "output_type": "stream",
     "text": [
      "Starting Stream\n",
      "Stream Started\n",
      "Ending stream\n"
     ]
    }
   ],
   "source": [
    "print(\"Starting Stream\")\n",
    "board.prepare_session()\n",
    "board.start_stream()\n",
    "print(\"Stream Started\")\n",
    "time.sleep(6) #wait 5 seconds\n",
    "data = board.get_board_data() #gets all data from board and removes it from internal buffer\n",
    "print(\"Ending stream\")\n",
    "board.stop_stream()\n",
    "board.release_session()"
   ]
  },
  {
   "cell_type": "markdown",
   "metadata": {
    "id": "L2lDb7dCF63I"
   },
   "source": [
    "This shows us that the data is of type numpy array and shape (nChannels, nSamples) where each row is all the sampled for that specific channel."
   ]
  },
  {
   "cell_type": "code",
   "execution_count": 21,
   "metadata": {
    "id": "hKNkzW2lCZNI"
   },
   "outputs": [
    {
     "name": "stdout",
     "output_type": "stream",
     "text": [
      "<class 'numpy.ndarray'>\n",
      "(8, 1512)\n"
     ]
    }
   ],
   "source": [
    "print(type(data))\n",
    "print(data.shape)"
   ]
  },
  {
   "cell_type": "markdown",
   "metadata": {
    "id": "fZTA-w7FGIVb"
   },
   "source": [
    "We can see from the result of the above code snippet that there are 32 channels, however the OpenBCI only has 16 channels. This is because Brainflow can also record other types of biosignals (EMG, EOG, ...). We are only interested in the EEG channels currently so we isolate the channels below."
   ]
  },
  {
   "cell_type": "code",
   "execution_count": 22,
   "metadata": {
    "id": "zr16JGj2CZNI"
   },
   "outputs": [
    {
     "name": "stdout",
     "output_type": "stream",
     "text": [
      "[1, 2, 3, 4]\n",
      "(4, 1512)\n"
     ]
    }
   ],
   "source": [
    "#We want to isolate just the eeg data\n",
    "eeg_channels = board.get_eeg_channels(board_id)\n",
    "print(eeg_channels)\n",
    "eeg_data = data[eeg_channels]\n",
    "print(eeg_data.shape)"
   ]
  },
  {
   "cell_type": "code",
   "execution_count": 23,
   "metadata": {
    "id": "3TIInNq0CZNI"
   },
   "outputs": [
    {
     "name": "stdout",
     "output_type": "stream",
     "text": [
      "[[ -41.015625      0.          -17.578125   ...  -84.47265625\n",
      "  -107.91015625  -87.890625  ]\n",
      " [ -30.2734375   -22.4609375   -28.3203125  ...  -47.8515625\n",
      "   -36.62109375  -18.5546875 ]\n",
      " [ 970.21484375  970.21484375  970.21484375 ...  567.3828125\n",
      "   272.94921875  929.19921875]\n",
      " [ -62.5         -21.484375    -28.3203125  ...   10.7421875\n",
      "   -16.11328125   -5.859375  ]]\n"
     ]
    }
   ],
   "source": [
    "print(eeg_data)"
   ]
  },
  {
   "cell_type": "markdown",
   "metadata": {
    "id": "UYOIqKhEIQ5i"
   },
   "source": [
    "We can also find the channels for other datatypes"
   ]
  },
  {
   "cell_type": "code",
   "execution_count": 24,
   "metadata": {
    "id": "_0sLsGTCCZNJ"
   },
   "outputs": [
    {
     "ename": "BrainFlowError",
     "evalue": "UNSUPPORTED_BOARD_ERROR:14 unable to request info about this board",
     "output_type": "error",
     "traceback": [
      "\u001b[1;31m---------------------------------------------------------------------------\u001b[0m",
      "\u001b[1;31mBrainFlowError\u001b[0m                            Traceback (most recent call last)",
      "Cell \u001b[1;32mIn[24], line 2\u001b[0m\n\u001b[0;32m      1\u001b[0m \u001b[38;5;66;03m#We can also find the channels for other datatypes\u001b[39;00m\n\u001b[1;32m----> 2\u001b[0m eog_channels \u001b[38;5;241m=\u001b[39m \u001b[43mboard\u001b[49m\u001b[38;5;241;43m.\u001b[39;49m\u001b[43mget_eog_channels\u001b[49m\u001b[43m(\u001b[49m\u001b[43mboard_id\u001b[49m\u001b[43m)\u001b[49m\n\u001b[0;32m      3\u001b[0m \u001b[38;5;28mprint\u001b[39m(eog_channels)\n",
      "File \u001b[1;32m~\\AppData\\Local\\Packages\\PythonSoftwareFoundation.Python.3.12_qbz5n2kfra8p0\\LocalCache\\local-packages\\Python312\\site-packages\\brainflow\\board_shim.py:954\u001b[0m, in \u001b[0;36mBoardShim.get_eog_channels\u001b[1;34m(cls, board_id, preset)\u001b[0m\n\u001b[0;32m    952\u001b[0m res \u001b[38;5;241m=\u001b[39m BoardControllerDLL\u001b[38;5;241m.\u001b[39mget_instance()\u001b[38;5;241m.\u001b[39mget_eog_channels(board_id, preset, eog_channels, num_channels)\n\u001b[0;32m    953\u001b[0m \u001b[38;5;28;01mif\u001b[39;00m res \u001b[38;5;241m!=\u001b[39m BrainFlowExitCodes\u001b[38;5;241m.\u001b[39mSTATUS_OK\u001b[38;5;241m.\u001b[39mvalue:\n\u001b[1;32m--> 954\u001b[0m     \u001b[38;5;28;01mraise\u001b[39;00m BrainFlowError(\u001b[38;5;124m'\u001b[39m\u001b[38;5;124munable to request info about this board\u001b[39m\u001b[38;5;124m'\u001b[39m, res)\n\u001b[0;32m    955\u001b[0m result \u001b[38;5;241m=\u001b[39m eog_channels\u001b[38;5;241m.\u001b[39mtolist()[\u001b[38;5;241m0\u001b[39m:num_channels[\u001b[38;5;241m0\u001b[39m]]\n\u001b[0;32m    956\u001b[0m \u001b[38;5;28;01mreturn\u001b[39;00m result\n",
      "\u001b[1;31mBrainFlowError\u001b[0m: UNSUPPORTED_BOARD_ERROR:14 unable to request info about this board"
     ]
    }
   ],
   "source": [
    "#We can also find the channels for other datatypes\n",
    "eog_channels = board.get_eog_channels(board_id)\n",
    "print(eog_channels)"
   ]
  },
  {
   "cell_type": "markdown",
   "metadata": {
    "id": "CRBh2YGdIUzy"
   },
   "source": [
    "Here we plot out the data from the first EEG channel across the 5 seconds"
   ]
  },
  {
   "cell_type": "code",
   "execution_count": 25,
   "metadata": {
    "id": "khkCiV0ZCZNJ"
   },
   "outputs": [
    {
     "data": {
      "text/plain": [
       "[<matplotlib.lines.Line2D at 0x200b87f4ad0>]"
      ]
     },
     "execution_count": 25,
     "metadata": {},
     "output_type": "execute_result"
    },
    {
     "data": {
      "image/png": "[encoded data removed]",
      "text/plain": [
       "<Figure size 640x480 with 1 Axes>"
      ]
     },
     "metadata": {},
     "output_type": "display_data"
    }
   ],
   "source": [
    "#Plot the first EEG channel\n",
    "plt.plot(np.arange(eeg_data.shape[1]), eeg_data[0])"
   ]
  },
  {
   "cell_type": "markdown",
   "metadata": {
    "id": "6twE4U0DCZNJ"
   },
   "source": [
    "## Read data and insert markers\n",
    "\n",
    "If you are dealing with any sort of stimulus or events in your EEG data, it is handy to know where exactly they occurred. Luckily, Brainflow has a function for this, allowing you to insert markers in the datastream right when events happen. These can then be accessed from the data afterwards in the same way as the other channels."
   ]
  },
  {
   "cell_type": "code",
   "execution_count": null,
   "metadata": {
    "id": "SbfPsAerCZNJ"
   },
   "outputs": [],
   "source": [
    "board.prepare_session()\n",
    "print(\"Starting Stream\")\n",
    "board.start_stream()\n",
    "#Insert a marker after every second\n",
    "for i in range(5):\n",
    "    time.sleep(1)\n",
    "    board.insert_marker(i+1) #0 is reserved for no stimulus so inserting 0 as a marker will give an error\n",
    "    print(\"Inserted marker:\", i+1)\n",
    "time.sleep(1)\n",
    "data = board.get_board_data()\n",
    "print(\"Ending stream\")\n",
    "board.stop_stream()\n",
    "board.release_session()"
   ]
  },
  {
   "cell_type": "markdown",
   "metadata": {
    "id": "ECHqN3swJdRJ"
   },
   "source": [
    "We can see below the channel indices for the EEG channels and the marker channel"
   ]
  },
  {
   "cell_type": "code",
   "execution_count": null,
   "metadata": {
    "id": "9SDKqMbkCZNK"
   },
   "outputs": [],
   "source": [
    "eeg_channels = board.get_eeg_channels(board_id)\n",
    "print(eeg_channels)\n",
    "marker_channel = board.get_marker_channel(board_id)\n",
    "print(marker_channel)"
   ]
  },
  {
   "cell_type": "markdown",
   "metadata": {
    "id": "rbalLl7HJj6j"
   },
   "source": [
    "Here we print out the markers data, for each sample there is an event value. By default if there is no event Brainflow inserts a 0 (so don't use 0 as a marker yourself). We can also see the markers that we inserted (if you look closely)."
   ]
  },
  {
   "cell_type": "code",
   "execution_count": null,
   "metadata": {
    "id": "1f83Fky-CZNK"
   },
   "outputs": [],
   "source": [
    "markers = data[marker_channel]\n",
    "print(markers)"
   ]
  },
  {
   "cell_type": "markdown",
   "metadata": {
    "id": "i0QFiZxlJ5Do"
   },
   "source": [
    "Here we get the sample indices where we placed our markers. We can also get the sampling rate from the board and find out at what times they occurred."
   ]
  },
  {
   "cell_type": "code",
   "execution_count": null,
   "metadata": {
    "id": "X7rYsbARCZNK"
   },
   "outputs": [],
   "source": [
    "#Find the sample indexes of markers that are nonzero\n",
    "marker_indexes = np.nonzero(markers)[0]\n",
    "print(marker_indexes)\n",
    "\n",
    "#Gets the sampling rate of the board (samples/second)\n",
    "sampling_rate = board.get_sampling_rate(board_id)\n",
    "print(sampling_rate)\n",
    "\n",
    "#Prints out the times when the markers occurred\n",
    "print(marker_indexes/sampling_rate)"
   ]
  },
  {
   "cell_type": "markdown",
   "metadata": {
    "id": "JofBxepWCZNK"
   },
   "source": [
    "## Reading data live\n",
    "\n",
    "Sometimes you might want to read the data while you are still recording it. Thankfully Brainflow lets you do this. You can use the get_current_board_data(n) function to grab the last n samples. Note that this does not remove the samples from the buffer so if you grab too many samples too fast you will have overlap between your data."
   ]
  },
  {
   "cell_type": "code",
   "execution_count": 26,
   "metadata": {
    "id": "BT8Sf2poCZNK"
   },
   "outputs": [
    {
     "name": "stdout",
     "output_type": "stream",
     "text": [
      "Starting Stream\n",
      "(8, 25)\n",
      "(8, 25)\n",
      "(8, 25)\n",
      "(8, 25)\n",
      "(8, 25)\n",
      "(8, 1512)\n",
      "Ending stream\n"
     ]
    }
   ],
   "source": [
    "board.prepare_session()\n",
    "print(\"Starting Stream\")\n",
    "board.start_stream()\n",
    "for i in range(5):\n",
    "    time.sleep(1)\n",
    "    #Gets the last 25 samples from the board without removing them from the buffer\n",
    "    current_data = board.get_current_board_data(25)\n",
    "    print(current_data.shape)\n",
    "time.sleep(1)\n",
    "data = board.get_board_data()\n",
    "print(data.shape)\n",
    "print(\"Ending stream\")\n",
    "board.stop_stream()\n",
    "board.release_session()"
   ]
  },
  {
   "cell_type": "markdown",
   "metadata": {
    "id": "aeQNiPavCZNK"
   },
   "source": [
    "## Save data\n",
    "\n",
    "It is easy to save data using Brainflow. You are able to write directly to a csv file so that you can access data later."
   ]
  },
  {
   "cell_type": "code",
   "execution_count": null,
   "metadata": {
    "id": "7XswKuyQCZNL"
   },
   "outputs": [],
   "source": [
    "print(eeg_data.shape)\n",
    "DataFilter.write_file(eeg_data, 'eeg_data_test.csv', 'w') #Writes into a csv file in the current directory\n",
    "\n",
    "restored_data = DataFilter.read_file('eeg_data_test.csv') #Reads file back\n",
    "print(restored_data.shape)\n",
    "\n",
    "#This shows how much the saved data differs from the original data, they are very similar but not equal.\n",
    "print(eeg_data - restored_data)"
   ]
  },
  {
   "cell_type": "markdown",
   "metadata": {
    "id": "C0Bb0Xl9CZNL"
   },
   "source": [
    "## Low and highpass filtering\n",
    "\n",
    "Brainflow also has some handy preprocessing features for your data. Here we apply low and highpass filtering to each EEG channel."
   ]
  },
  {
   "cell_type": "code",
   "execution_count": null,
   "metadata": {
    "id": "je41uBSRCZNL"
   },
   "outputs": [],
   "source": [
    "#Genereate more eeg_data with markers for testing below\n",
    "board.prepare_session()\n",
    "print(\"Starting Stream\")\n",
    "board.start_stream()\n",
    "#Insert a marker after every second\n",
    "for i in range(5):\n",
    "    time.sleep(1)\n",
    "    board.insert_marker(i+1) #0 is reserved for no stimulus so inserting 0 as a marker will give an error\n",
    "    print(\"Inserted marker:\", i+1)\n",
    "time.sleep(1)\n",
    "data = board.get_board_data()\n",
    "print(\"Ending stream\")\n",
    "board.stop_stream()\n",
    "board.release_session()\n",
    "\n",
    "eeg_channels = board.get_eeg_channels(board_id)\n",
    "eeg_data = data[eeg_channels]\n",
    "plt.plot(np.arange(eeg_data.shape[1]), eeg_data[0])"
   ]
  },
  {
   "cell_type": "code",
   "execution_count": null,
   "metadata": {
    "id": "RycxULzLCZNL"
   },
   "outputs": [],
   "source": [
    "for channel in range(eeg_data.shape[0]):\n",
    "    #Filters work in place\n",
    "    DataFilter.perform_lowpass(eeg_data[channel], BoardShim.get_sampling_rate(board_id), 50.0, 5,\n",
    "                                       FilterTypes.BUTTERWORTH, 1)\n",
    "    DataFilter.perform_highpass(eeg_data[channel], BoardShim.get_sampling_rate(board_id), 2.0, 4,\n",
    "                                        FilterTypes.BUTTERWORTH, 0)\n",
    "plt.plot(np.arange(eeg_data.shape[1]), eeg_data[0])"
   ]
  },
  {
   "cell_type": "markdown",
   "metadata": {
    "id": "kw5DCpYOCZNL"
   },
   "source": [
    "## Wavelet transform\n",
    "\n",
    "Brainflow also includes the wavelet transformation. In the documentation they mention using the enum WaveletTypes as the wavelet parameter, however this does not work for some versions. Instead you may either have to enter a string (e.g. \"db1\") or the actual int value of the wavelet type you want that can be found here: https://brainflow.readthedocs.io/en/stable/UserAPI.html#brainflow-data-filter"
   ]
  },
  {
   "cell_type": "code",
   "execution_count": null,
   "metadata": {
    "id": "xhyZT4xeCZNL"
   },
   "outputs": [],
   "source": [
    "for channel in range(eeg_data.shape[0]):\n",
    "    #Applies a wavelet transformation to the current channel, not in place\n",
    "\n",
    "    #If this line doesn't work for you, try the one below\n",
    "    wavelet_coeffs, lengths = DataFilter.perform_wavelet_transform(eeg_data[channel], 1, 3)\n",
    "    #wavelet_coeffs, lengths = DataFilter.perform_wavelet_transform(eeg_data[channel], \"db1\", 3)\n",
    "\n",
    "    app_coefs = wavelet_coeffs[0: lengths[0]] #approximation coefficients\n",
    "    detailed_coeffs_first_block = wavelet_coeffs[lengths[0]: lengths[1]] #detailed coefficients\n",
    "\n",
    "    #Perform an inverse wavelet transformation to get the original data back\n",
    "    restored_data = DataFilter.perform_inverse_wavelet_transform((wavelet_coeffs, lengths), eeg_data[channel].shape[0], 1, 3)\n",
    "    #restored_data = DataFilter.perform_inverse_wavelet_transform((wavelet_coeffs, lengths), eeg_data[channel].shape[0], \"db1\", 3)\n",
    "\n",
    "    #Print the difference between the inverse wavelet data and the original data\n",
    "    print(eeg_data[channel] - restored_data)"
   ]
  },
  {
   "cell_type": "markdown",
   "metadata": {
    "id": "1bNYBYlSCZNL"
   },
   "source": [
    "## Convert to MNE format\n",
    "\n",
    "MNE is another library that has a lot of very useful tools for EEG data (and other biosignals). But to use it we have to modify our Brainflow data so that it works with the library. The MNE documentation can be found here: https://mne.tools/stable/index.html"
   ]
  },
  {
   "cell_type": "code",
   "execution_count": null,
   "metadata": {
    "id": "GHABa05ECZNL"
   },
   "outputs": [],
   "source": [
    "!python -m pip install -q mne"
   ]
  },
  {
   "cell_type": "code",
   "execution_count": null,
   "metadata": {
    "id": "D2sS4fP0CZNL"
   },
   "outputs": [],
   "source": [
    "import mne\n",
    "\n",
    "#Get info from board needed for conversion\n",
    "eeg_channels = board.get_eeg_channels(board_id)\n",
    "sampling_rate = board.get_sampling_rate(board_id)\n",
    "eeg_channel_names = board.get_eeg_names(board_id)\n",
    "marker_channel = board.get_marker_channel(board_id)\n",
    "eeg_channel_types = ['eeg'] * len(eeg_channels)\n",
    "\n",
    "data[eeg_channels, :] /= 1000000 #Change from microvolts to volts\n",
    "mne_data = data[eeg_channels + [marker_channel], :] #Get the EEG and marker data\n",
    "info = mne.create_info(ch_names=eeg_channel_names + ['stim'], sfreq=sampling_rate, ch_types=eeg_channel_types + ['stim'])\n",
    "raw = mne.io.RawArray(mne_data, info) #Create MNE object\n",
    "montage = mne.channels.make_standard_montage('standard_1020') #Define montage (positions of sensors)\n",
    "raw.set_montage(montage)\n",
    "raw.set_eeg_reference(ref_channels='average')\n",
    "mne.viz.plot_montage(montage) #Displays the montage\n",
    "\n",
    "#plot without any modifications\n",
    "raw.plot_psd(average=True)"
   ]
  }
 ],
 "metadata": {
  "colab": {
   "provenance": []
  },
  "kernelspec": {
   "display_name": "Python 3",
   "language": "python",
   "name": "python3"
  },
  "language_info": {
   "codemirror_mode": {
    "name": "ipython",
    "version": 3
   },
   "file_extension": ".py",
   "mimetype": "text/x-python",
   "name": "python",
   "nbconvert_exporter": "python",
   "pygments_lexer": "ipython3",
   "version": "3.12.7"
  }
 },
 "nbformat": 4,
 "nbformat_minor": 0
}
