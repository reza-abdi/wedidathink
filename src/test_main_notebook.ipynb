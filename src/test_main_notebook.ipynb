{
 "cells": [
  {
   "cell_type": "code",
   "execution_count": 1,
   "metadata": {},
   "outputs": [],
   "source": [
    "from brainflow.board_shim import BoardShim, BrainFlowInputParams, BoardIds\n",
    "from brainflow.data_filter import DataFilter, FilterTypes\n",
    "import numpy as np\n",
    "import pandas as pd\n",
    "import matplotlib.pyplot as plt\n",
    "import time\n",
    "import os\n"
   ]
  },
  {
   "cell_type": "code",
   "execution_count": 2,
   "metadata": {},
   "outputs": [
    {
     "name": "stderr",
     "output_type": "stream",
     "text": [
      "[2024-11-16 11:19:41.155] [board_logger] [info] incoming json: {\n",
      "    \"file\": \"\",\n",
      "    \"file_anc\": \"\",\n",
      "    \"file_aux\": \"\",\n",
      "    \"ip_address\": \"\",\n",
      "    \"ip_address_anc\": \"\",\n",
      "    \"ip_address_aux\": \"\",\n",
      "    \"ip_port\": 0,\n",
      "    \"ip_port_anc\": 0,\n",
      "    \"ip_port_aux\": 0,\n",
      "    \"ip_protocol\": 0,\n",
      "    \"mac_address\": \"\",\n",
      "    \"master_board\": -100,\n",
      "    \"other_info\": \"\",\n",
      "    \"serial_number\": \"\",\n",
      "    \"serial_port\": \"COM3\",\n",
      "    \"timeout\": 0\n",
      "}\n",
      "[2024-11-16 11:19:41.156] [board_logger] [info] Use timeout for discovery: 6\n",
      "[2024-11-16 11:19:46.469] [board_logger] [info] found 1 BLE adapter(s)\n",
      "[2024-11-16 11:19:47.459] [board_logger] [warning] Probably bluetooth is disabled.\n"
     ]
    },
    {
     "name": "stdout",
     "output_type": "stream",
     "text": [
      "[WARNING] SimpleBLE: /Users/runner/work/brainflow/brainflow/third_party/SimpleBLE/simpleble/src/frontends/base/Adapter.cpp:46 in scan_start: Bluetooth is not enabled.\n"
     ]
    }
   ],
   "source": [
    "# BrainFlow Parameters\n",
    "params = BrainFlowInputParams()\n",
    "params.serial_port = 'COM3'  # Update based on your device and OS\n",
    "board_id = 38  # Replace with your device ID\n",
    "\n",
    "# Prepare the board session\n",
    "try:\n",
    "    board = BoardShim(board_id, params)\n",
    "    board.prepare_session()\n",
    "    print(\"Successfully prepared the physical board.\")\n",
    "except Exception as e:\n",
    "    print(\"Error initializing the board:\", e)\n",
    "    print(\"Using synthetic board instead.\")\n",
    "    board_id = BoardIds.SYNTHETIC_BOARD\n",
    "    board = BoardShim(board_id, params)\n",
    "    board.prepare_session()\n"
   ]
  },
  {
   "cell_type": "code",
   "execution_count": null,
   "metadata": {},
   "outputs": [],
   "source": [
    "# Start Streaming\n",
    "print(\"Starting stream...\")\n",
    "board.start_stream()\n",
    "time.sleep(10)  # Stream for 10 seconds\n",
    "data = board.get_board_data()  # Retrieve all data from the board\n",
    "print(\"Stream stopped.\")\n",
    "board.stop_stream()\n",
    "board.release_session()\n",
    "\n",
    "# Isolate EEG Channels\n",
    "eeg_channels = board.get_eeg_channels(board_id)\n",
    "eeg_data = data[eeg_channels]\n",
    "print(f\"EEG Data Shape: {eeg_data.shape}\")\n",
    "\n",
    "# Save EEG Data to CSV\n",
    "output_file = \"eeg_data_test.csv\"\n",
    "DataFilter.write_file(eeg_data, output_file, 'w')\n",
    "print(f\"EEG data saved to '{output_file}'\")\n"
   ]
  },
  {
   "cell_type": "code",
   "execution_count": null,
   "metadata": {},
   "outputs": [],
   "source": [
    "# Function to analyze steady periods and fluctuations\n",
    "def analyze_brainwave_activity(data, steady_threshold=5.0, fluctuation_threshold=50.0):\n",
    "    results = []\n",
    "    for channel_idx in range(data.shape[0]):\n",
    "        channel_data = data[channel_idx]\n",
    "        steady_segments = []\n",
    "        fluctuation_comments = []\n",
    "\n",
    "        # Analyze steady periods\n",
    "        start_idx = 0\n",
    "        for i in range(1, len(channel_data)):\n",
    "            diff = abs(channel_data[i] - channel_data[i - 1])\n",
    "            if diff > steady_threshold:\n",
    "                if i - 1 > start_idx:\n",
    "                    steady_segments.append((start_idx, i - 1))\n",
    "                start_idx = i\n",
    "\n",
    "        # Handle the last segment\n",
    "        if start_idx < len(channel_data) - 1:\n",
    "            steady_segments.append((start_idx, len(channel_data) - 1))\n",
    "\n",
    "        # Analyze large fluctuations\n",
    "        for i in range(1, len(channel_data)):\n",
    "            diff = abs(channel_data[i] - channel_data[i - 1])\n",
    "            if diff > fluctuation_threshold:\n",
    "                fluctuation_comments.append(\n",
    "                    f\"Channel {channel_idx + 1}: Huge fluctuation from {channel_data[i - 1]:.2f} µV to {channel_data[i]:.2f} µV at sample {i}.\"\n",
    "                )\n",
    "\n",
    "        # Store results\n",
    "        results.append({\n",
    "            \"channel\": channel_idx + 1,\n",
    "            \"steady_segments\": steady_segments,\n",
    "            \"fluctuations\": fluctuation_comments,\n",
    "        })\n",
    "\n",
    "    return results\n"
   ]
  },
  {
   "cell_type": "code",
   "execution_count": null,
   "metadata": {},
   "outputs": [],
   "source": [
    "# Load EEG Data from CSV\n",
    "if not os.path.exists(output_file):\n",
    "    raise FileNotFoundError(f\"The file '{output_file}' was not found.\")\n",
    "eeg_data = DataFilter.read_file(output_file)\n",
    "eeg_data = np.array(eeg_data)\n",
    "\n",
    "# Analyze EEG Data\n",
    "analysis_results = analyze_brainwave_activity(eeg_data)\n",
    "\n",
    "# Save Analysis Results to CSV\n",
    "steady_segments_df = pd.DataFrame([\n",
    "    {\"channel\": r[\"channel\"], \"start\": s[0], \"end\": s[1]}\n",
    "    for r in analysis_results for s in r[\"steady_segments\"]\n",
    "])\n",
    "steady_segments_df.to_csv(\"steady_segments.csv\", index=False)\n",
    "print(\"Steady segments saved to 'steady_segments.csv'\")\n",
    "\n",
    "fluctuation_comments_df = pd.DataFrame([\n",
    "    {\"channel\": r[\"channel\"], \"comment\": c}\n",
    "    for r in analysis_results for c in r[\"fluctuations\"]\n",
    "])\n",
    "fluctuation_comments_df.to_csv(\"fluctuation_comments.csv\", index=False)\n",
    "print(\"Fluctuation comments saved to 'fluctuation_comments.csv'\")\n"
   ]
  },
  {
   "cell_type": "code",
   "execution_count": null,
   "metadata": {},
   "outputs": [],
   "source": [
    "# Visualize EEG Data\n",
    "offsets = [i * 100 for i in range(eeg_data.shape[0])]  # Offset each channel for visualization\n",
    "plt.figure(figsize=(12, 6))\n",
    "for i in range(eeg_data.shape[0]):\n",
    "    plt.plot(np.arange(eeg_data.shape[1]), eeg_data[i] + offsets[i], label=f\"Channel {i+1}\")\n",
    "\n",
    "plt.xlabel('Time')\n",
    "plt.ylabel('Amplitude (with offsets)')\n",
    "plt.legend()\n",
    "plt.title('EEG Data Visualization')\n",
    "plt.show()\n"
   ]
  }
 ],
 "metadata": {
  "kernelspec": {
   "display_name": "Python 3",
   "language": "python",
   "name": "python3"
  },
  "language_info": {
   "codemirror_mode": {
    "name": "ipython",
    "version": 3
   },
   "file_extension": ".py",
   "mimetype": "text/x-python",
   "name": "python",
   "nbconvert_exporter": "python",
   "pygments_lexer": "ipython3",
   "version": "3.13.0"
  }
 },
 "nbformat": 4,
 "nbformat_minor": 2
}
