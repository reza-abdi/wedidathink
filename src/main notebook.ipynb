{
 "cells": [
  {
   "cell_type": "code",
   "execution_count": 2,
   "metadata": {},
   "outputs": [
    {
     "ename": "ModuleNotFoundError",
     "evalue": "No module named 'brainflow'",
     "output_type": "error",
     "traceback": [
      "\u001b[0;31m---------------------------------------------------------------------------\u001b[0m",
      "\u001b[0;31mModuleNotFoundError\u001b[0m                       Traceback (most recent call last)",
      "Cell \u001b[0;32mIn[2], line 1\u001b[0m\n\u001b[0;32m----> 1\u001b[0m \u001b[38;5;28;01mfrom\u001b[39;00m \u001b[38;5;21;01mbrainflow\u001b[39;00m\u001b[38;5;21;01m.\u001b[39;00m\u001b[38;5;21;01mboard_shim\u001b[39;00m \u001b[38;5;28;01mimport\u001b[39;00m BoardShim, BrainFlowInputParams, BoardIds\n\u001b[1;32m      2\u001b[0m \u001b[38;5;28;01mfrom\u001b[39;00m \u001b[38;5;21;01mbrainflow\u001b[39;00m\u001b[38;5;21;01m.\u001b[39;00m\u001b[38;5;21;01mdata_filter\u001b[39;00m \u001b[38;5;28;01mimport\u001b[39;00m DataFilter, FilterTypes\n\u001b[1;32m      3\u001b[0m \u001b[38;5;28;01mimport\u001b[39;00m \u001b[38;5;21;01mnumpy\u001b[39;00m \u001b[38;5;28;01mas\u001b[39;00m \u001b[38;5;21;01mnp\u001b[39;00m\n",
      "\u001b[0;31mModuleNotFoundError\u001b[0m: No module named 'brainflow'"
     ]
    }
   ],
   "source": [
    "from brainflow.board_shim import BoardShim, BrainFlowInputParams, BoardIds\n",
    "from brainflow.data_filter import DataFilter, FilterTypes\n",
    "import numpy as np\n",
    "import matplotlib.pyplot as plt\n",
    "import time\n",
    "\n",
    "params = BrainFlowInputParams()\n",
    "params.serial_port = 'COM3' #Change this depending on your device and OS\n",
    "board_id = 38 #Change this depending on your device\n",
    "\n",
    "#Prepares the board for reading data\n",
    "try:\n",
    "    board_id = 38\n",
    "    board = BoardShim(board_id, params)\n",
    "    board.prepare_session()\n",
    "    print(\"Successfully prepared physical board.\")\n",
    "except Exception as e:\n",
    "    print(e)\n",
    "    #If the device cannot be found or is being used elsewhere, creates a synthetic board instead\n",
    "    print(\"Device could not be found or is being used by another program, creating synthetic board.\")\n",
    "    board_id = BoardIds.SYNTHETIC_BOARD\n",
    "    board = BoardShim(board_id, params)\n",
    "    board.prepare_session()\n",
    "#Releases the board session\n",
    "board.release_session()\n",
    "\n",
    "print(\"Starting Stream\")\n",
    "board.prepare_session()\n",
    "board.start_stream()\n",
    "print(\"Stream Started\")\n",
    "time.sleep(10) #wait 10 seconds\n",
    "data = board.get_board_data() #gets all data from board and removes it from internal buffer\n",
    "print(\"Ending stream\")\n",
    "board.stop_stream()\n",
    "board.release_session()\n",
    "#We want to isolate just the eeg data\n",
    "eeg_channels = board.get_eeg_channels(board_id)\n",
    "print(eeg_channels)\n",
    "eeg_data = data[eeg_channels]\n",
    "print(eeg_data.shape)\n",
    "\n",
    "DataFilter.write_file(eeg_data, 'eeg_data_test.csv', 'w') #Writes into a csv file in the current directory\n",
    "\n",
    "restored_data = DataFilter.read_file('eeg_data_test.csv') #Reads file back\n",
    "print(restored_data.shape)\n",
    "\n",
    "#This shows how much the saved data differs from the original data, they are very similar but not equal.\n",
    "print(eeg_data - restored_data)\n",
    "\n",
    "offsets = [0, 100, 200, 300]\n",
    "for i in range(eeg_data.shape[0]):\n",
    "    plt.plot(np.arange(eeg_data.shape[1]), eeg_data[i] + offsets[i], label=f\"Stream(i+1)\")\n",
    "\n",
    "plt.xlabel('Time')\n",
    "plt.ylabel('Amplitude (with offests)')\n",
    "plt.legend()\n",
    "plt.title('EEG Data with Streams Offset')\n",
    "plt.show()"
   ]
  }
 ],
 "metadata": {
  "kernelspec": {
   "display_name": "Python 3 (ipykernel)",
   "language": "python",
   "name": "python3"
  },
  "language_info": {
   "codemirror_mode": {
    "name": "ipython",
    "version": 3
   },
   "file_extension": ".py",
   "mimetype": "text/x-python",
   "name": "python",
   "nbconvert_exporter": "python",
   "pygments_lexer": "ipython3",
   "version": "3.10.6"
  }
 },
 "nbformat": 4,
 "nbformat_minor": 2
}
